{
 "cells": [
  {
   "cell_type": "code",
   "execution_count": 1,
   "metadata": {
    "collapsed": false
   },
   "outputs": [],
   "source": [
    "import struct\n",
    "import re\n",
    "import os\n",
    "import pandas as pd\n",
    "from PIL import Image\n",
    "import tensorflow as tf\n",
    "import matplotlib.pyplot as plt\n",
    "import numpy as np\n",
    "from sklearn.model_selection import *"
   ]
  },
  {
   "cell_type": "code",
   "execution_count": 2,
   "metadata": {
    "collapsed": true
   },
   "outputs": [],
   "source": [
    "IMAGE_HEIGHT = 127\n",
    "IMAGE_WIDTH = 128"
   ]
  },
  {
   "cell_type": "code",
   "execution_count": 3,
   "metadata": {
    "collapsed": false
   },
   "outputs": [],
   "source": [
    "def file_name_to_label(filename):\n",
    "    # to get hex value of character code\n",
    "    hex_label = re.findall(\"24\\w{2}\", filename)\n",
    "    char = hex_label[0][2:]\n",
    "    label = int(char, 16)\n",
    "    # to make label start from 0\n",
    "    return label -34"
   ]
  },
  {
   "cell_type": "code",
   "execution_count": 4,
   "metadata": {
    "collapsed": false
   },
   "outputs": [],
   "source": [
    "def binary_to_tensor(binary):\n",
    "    image = tf.image.decode_png(binary, channels=1)\n",
    "    feature = tf.reshape(image, [1, IMAGE_HEIGHT,IMAGE_WIDTH, 1 ])\n",
    "    return feature\n",
    "\n",
    "def file_name_to_binary(filename):\n",
    "    with open(filename, \"rb\") as f:\n",
    "        binary = f.read()\n",
    "    return binary"
   ]
  },
  {
   "cell_type": "code",
   "execution_count": 5,
   "metadata": {
    "collapsed": true
   },
   "outputs": [],
   "source": [
    "def make_dataset(directory=\"data_hiragana/\", shape=None):\n",
    "    \"\"\"\n",
    "    make data. data format is [data_size, (image + label)]. Resize data when shape is not None.\n",
    "    \n",
    "    Parrameter:\n",
    "        directory: string\n",
    "            directory where png files are located\n",
    "        shape: list [height, width] or None\n",
    "            resize the image to (height, width) when shape is given\n",
    "    Return:\n",
    "        tf.tensor: tensor. the value of the data is the value\n",
    "    \"\"\"\n",
    "    files = os.listdir(directory)\n",
    "    labels = [file_name_to_label(x) for x in files]\n",
    "    # convert label to tensor\n",
    "    labels = tf.constant(labels, dtype=tf.float32)\n",
    "    labels = tf.reshape(labels, [-1, 1])\n",
    "    \n",
    "    # load png data as tensor\n",
    "    binaries = [file_name_to_binary(directory + x) for x in files]\n",
    "    features = [binary_to_tensor(x) for x in binaries]\n",
    "    # concat features \n",
    "    features = tf.concat(features, axis =0)\n",
    "    # resize the vector when it is not none.\n",
    "    if shape is not None:\n",
    "            features = tf.image.resize_images(features, size=shape)\n",
    "    \n",
    "    if shape is None:\n",
    "        shape = [IMAGE_HEIGHT, IMAGE_WIDTH]\n",
    "    \n",
    "    features = tf.cast(features, tf.float32)\n",
    "    # flatted image\n",
    "    features = tf.reshape(features, [-1, shape[0] * shape[1]])\n",
    "    \n",
    "    # create data by concating features and labels\n",
    "    \n",
    "    data = tf.concat([features, labels], axis=1)\n",
    "    \n",
    "\n",
    "    return data"
   ]
  },
  {
   "cell_type": "code",
   "execution_count": 6,
   "metadata": {
    "collapsed": true
   },
   "outputs": [],
   "source": [
    "def make_csv(data, sprit=None):\n",
    "    \"\"\"\n",
    "    make csv from tensor.\n",
    "    \n",
    "    parameter:\n",
    "        data: tf.Tensor \n",
    "            tensor containing data\n",
    "    sprit: float\n",
    "        split the train and test data. sprit is ratio for test data.\n",
    "        \n",
    "    return: None\n",
    "    \"\"\"\n",
    "    with tf.Session() as sess:\n",
    "        # features = make_dataset()\n",
    "\n",
    "        data = data.eval()\n",
    "        print(data.shape)\n",
    "    # read data as DataFrame\n",
    "    Dataframe = pd.DataFrame(data)\n",
    "    \n",
    "    # change name of column for labels\n",
    "    names = Dataframe.columns.tolist()\n",
    "    names[-1] = \"label\"\n",
    "    Dataframe.columns = names\n",
    "    \n",
    "    if sprit == None:\n",
    "        # make csv\n",
    "        Dataframe.to_csv(\"labeled_data.csv\", index=False)\n",
    "    else:\n",
    "        # sprit the data\n",
    "        train,  test = train_test_split(Dataframe, train_size=sprit, random_state=0)\n",
    "        # write to csv\n",
    "        train.to_csv(\"train_data.csv\")\n",
    "        test.to_csv(\"test_data.csv\")"
   ]
  },
  {
   "cell_type": "code",
   "execution_count": 8,
   "metadata": {
    "collapsed": false
   },
   "outputs": [
    {
     "name": "stdout",
     "output_type": "stream",
     "text": [
      "(2475, 4097)\n"
     ]
    }
   ],
   "source": [
    "if __name__ == \"__main__\":\n",
    "    data = make_dataset(shape=(64, 64))\n",
    "    print(\"finish loading data. now writing......\")\n",
    "    make_csv(data)"
   ]
  },
  {
   "cell_type": "code",
   "execution_count": null,
   "metadata": {
    "collapsed": true
   },
   "outputs": [],
   "source": []
  }
 ],
 "metadata": {
  "kernelspec": {
   "display_name": "Tensorflow",
   "language": "python",
   "name": "tensorflow"
  },
  "language_info": {
   "codemirror_mode": {
    "name": "ipython",
    "version": 3
   },
   "file_extension": ".py",
   "mimetype": "text/x-python",
   "name": "python",
   "nbconvert_exporter": "python",
   "pygments_lexer": "ipython3",
   "version": "3.5.3"
  }
 },
 "nbformat": 4,
 "nbformat_minor": 2
}

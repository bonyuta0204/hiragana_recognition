{
 "cells": [
  {
   "cell_type": "code",
   "execution_count": 107,
   "metadata": {
    "collapsed": false
   },
   "outputs": [],
   "source": [
    "import struct\n",
    "import re\n",
    "import os\n",
    "import pandas as pd\n",
    "from PIL import Image\n",
    "import tensorflow as tf\n",
    "import matplotlib.pyplot as plt\n",
    "import numpy as np"
   ]
  },
  {
   "cell_type": "code",
   "execution_count": 101,
   "metadata": {
    "collapsed": true
   },
   "outputs": [],
   "source": [
    "IMAGE_HEIGHT = 127\n",
    "IMAGE_WIDTH = 128"
   ]
  },
  {
   "cell_type": "code",
   "execution_count": 65,
   "metadata": {
    "collapsed": false
   },
   "outputs": [],
   "source": [
    "def file_name_to_label(filename):\n",
    "    # to get hex value of character code\n",
    "    hex_label = re.findall(\"24\\w{2}\", filename)\n",
    "    char = hex_label[0][2:]\n",
    "    label = int(char, 16)\n",
    "    # to make label start from 0\n",
    "    return label -34"
   ]
  },
  {
   "cell_type": "code",
   "execution_count": 112,
   "metadata": {
    "collapsed": false
   },
   "outputs": [],
   "source": [
    "def binary_to_tensor(binary):\n",
    "    image = tf.image.decode_png(binary, channels=1)\n",
    "    feature = tf.reshape(image, [1, IMAGE_HEIGHT,IMAGE_WIDTH, 1 ])\n",
    "    return feature\n",
    "\n",
    "def file_name_to_binary(filename):\n",
    "    with open(filename, \"rb\") as f:\n",
    "        binary = f.read()\n",
    "    return binary"
   ]
  },
  {
   "cell_type": "code",
   "execution_count": 121,
   "metadata": {
    "collapsed": true
   },
   "outputs": [],
   "source": [
    "def make_dataset(directory=\"data_hiragana/\"):\n",
    "    files = os.listdir(directory)\n",
    "    labels = [file_name_to_label(x) for x in files]\n",
    "    # convert label to tensor\n",
    "    labels = tf.constant(labels, dtype=tf.uint8)\n",
    "    labels = tf.reshape(labels, [-1, 1])\n",
    "    \n",
    "    # load png data as tensor\n",
    "    binaries = [file_name_to_binary(directory + x) for x in files]\n",
    "    features = [binary_to_tensor(x) for x in binaries]\n",
    "    \n",
    "    # concat features \n",
    "    features = tf.concat(features, axis =0)\n",
    "    features = tf.reshape(features, [-1, IMAGE_HEIGHT * IMAGE_WIDTH])\n",
    "    \n",
    "    # create data by concating features and labels\n",
    "    \n",
    "    data = tf.concat([features, labels], axis=1)\n",
    "    \n",
    "\n",
    "    return data"
   ]
  },
  {
   "cell_type": "code",
   "execution_count": 148,
   "metadata": {
    "collapsed": true
   },
   "outputs": [],
   "source": [
    "def make_csv():\n",
    "    with tf.Session() as sess:\n",
    "        features = make_dataset()\n",
    "\n",
    "        data = features.eval()\n",
    "    \n",
    "    # read data as DataFrame\n",
    "    Dataframe = pd.DataFrame(data)\n",
    "    \n",
    "    # change name of column for labels\n",
    "    names = Dataframe.columns.tolist()\n",
    "    names[-1] = \"label\"\n",
    "    Dataframe.columns = names\n",
    "    \n",
    "    # make csv\n",
    "    Dataframe.to_csv(\"labeled_data.csv\", index=False)"
   ]
  },
  {
   "cell_type": "code",
   "execution_count": null,
   "metadata": {
    "collapsed": true
   },
   "outputs": [],
   "source": [
    "def sprit_data():"
   ]
  }
 ],
 "metadata": {
  "kernelspec": {
   "display_name": "Tensorflow",
   "language": "python",
   "name": "tensorflow"
  },
  "language_info": {
   "codemirror_mode": {
    "name": "ipython",
    "version": 3
   },
   "file_extension": ".py",
   "mimetype": "text/x-python",
   "name": "python",
   "nbconvert_exporter": "python",
   "pygments_lexer": "ipython3",
   "version": "3.5.3"
  }
 },
 "nbformat": 4,
 "nbformat_minor": 2
}
